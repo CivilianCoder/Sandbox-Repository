{
 "cells": [
  {
   "cell_type": "code",
   "execution_count": 1,
   "id": "44269beb",
   "metadata": {},
   "outputs": [
    {
     "name": "stdout",
     "output_type": "stream",
     "text": [
      "hello world -- internal change\n"
     ]
    }
   ],
   "source": [
    "print(\"hello world -- internal\")"
   ]
  },
  {
   "cell_type": "code",
   "execution_count": 2,
   "id": "26ead0a9",
   "metadata": {},
   "outputs": [
    {
     "name": "stdout",
     "output_type": "stream",
     "text": [
      "update number 1\n"
     ]
    }
   ],
   "source": [
    "print(\"update number 1\")"
   ]
  },
  {
   "cell_type": "code",
   "execution_count": 4,
   "id": "f3672f68",
   "metadata": {},
   "outputs": [
    {
     "name": "stdout",
     "output_type": "stream",
     "text": [
      "1\n",
      "58\n",
      "2\n",
      "59\n",
      "3\n",
      "60\n",
      "4\n",
      "61\n",
      "5\n",
      "62\n",
      "6\n",
      "63\n",
      "7\n",
      "64\n",
      "8\n",
      "65\n",
      "9\n",
      "66\n",
      "10\n",
      "67\n",
      "11\n",
      "68\n",
      "12\n",
      "69\n",
      "13\n",
      "70\n",
      "14\n",
      "71\n",
      "15\n",
      "72\n",
      "16\n",
      "73\n",
      "17\n",
      "74\n",
      "18\n",
      "75\n",
      "19\n",
      "76\n",
      "20\n",
      "77\n"
     ]
    }
   ],
   "source": [
    "a = 10\n",
    "b = 67\n",
    "e = -10\n",
    "while e < 10:\n",
    "    e += 1\n",
    "    ae = a+e\n",
    "    be = b+e\n",
    "    print(ae)\n",
    "    print(be)"
   ]
  },
  {
   "cell_type": "code",
   "execution_count": null,
   "id": "0579014f",
   "metadata": {},
   "outputs": [],
   "source": []
  }
 ],
 "metadata": {
  "kernelspec": {
   "display_name": "Python 3 (ipykernel)",
   "language": "python",
   "name": "python3"
  },
  "language_info": {
   "codemirror_mode": {
    "name": "ipython",
    "version": 3
   },
   "file_extension": ".py",
   "mimetype": "text/x-python",
   "name": "python",
   "nbconvert_exporter": "python",
   "pygments_lexer": "ipython3",
   "version": "3.9.7"
  }
 },
 "nbformat": 4,
 "nbformat_minor": 5
}
